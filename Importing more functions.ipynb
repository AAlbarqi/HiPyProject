{
 "cells": [
  {
   "cell_type": "markdown",
   "metadata": {},
   "source": [
    "# Importing More Functions\n",
    "\n",
    "We have been using just a small handful of functions so far. For our present purposes, a function is a command that takes some inputs, called arguments, and returns an output (this definition will be expanded in the next guide). The function \"evaluates\" to whatever it returns as its output, in the same way that a mathematical expression evaluates to a number, and boolean expression evaluates to True or False. Executing a function is called <i>calling</i> the function. We always know that a function is being called if there is a word followed by opening and closing brackets, which contain the inputs to the function. For example:"
   ]
  },
  {
   "cell_type": "code",
   "execution_count": 4,
   "metadata": {
    "collapsed": false
   },
   "outputs": [
    {
     "name": "stdout",
     "output_type": "stream",
     "text": [
      "323\n"
     ]
    }
   ],
   "source": [
    "a = max(1, 323, 3)\n",
    "print(a) # max and print are both functions! the max() function evaluated to 323."
   ]
  },
  {
   "cell_type": "markdown",
   "metadata": {},
   "source": [
    "At time of writing, Python has 68 built-in functions which you can read about here https://docs.python.org/3/library/functions.html. There is no need to memorize this list. As you complete common tasks, your memory for the most useful built-in functions will grow.\n",
    "\n",
    "There are far more functions available than just these that are built-in. A library is a collection of code that is designed to be used in other programs, to improve the functionality of that program without the programmer having to do it all from scratch. Most programming languages have a \"standard library\", included wherever basic software (such as the interpreter) is installed, and Python is no exception. You can also create your own libraries, and use libraries not included in the standard library. If you installed Python using Anaconda, you will already have access to a large collection of non-standard libraries.\n",
    "\n",
    "Making use of a library takes the form of importing a module. A module is just a file containing Python code, and the syntax for doing this is easy. Let's import a module from the standard library. Suppose we wish to get some basic statistical facts about a set of data points."
   ]
  },
  {
   "cell_type": "code",
   "execution_count": 5,
   "metadata": {
    "collapsed": true
   },
   "outputs": [],
   "source": [
    "import statistics"
   ]
  },
  {
   "cell_type": "markdown",
   "metadata": {},
   "source": [
    "That's all there is to it. When a module is imported, the code contained in that module is executed, and any functions, variables, or other objects it provides are loaded into the memory. To access them, we use the dot operator in the following way: <code>modulename.thingwewant</code>. For example, we wish to find the mean in the following data set:"
   ]
  },
  {
   "cell_type": "code",
   "execution_count": 6,
   "metadata": {
    "collapsed": false
   },
   "outputs": [
    {
     "name": "stdout",
     "output_type": "stream",
     "text": [
      "96.2200289611252\n"
     ]
    }
   ],
   "source": [
    "datapoints = [122.4405632654331, 115.75254005489799, 92.53967075824983, 103.53590194401652, 81.27219333775719, 101.61965193699073, 78.30111045299329, 114.11585074905481, 114.76222147968035, 94.74755847301873, 125.01631527683821, 105.17195190259096, 128.33700175849353, 89.38673085168398, 90.40490836715898, 74.35979914723771, 78.9020965751661, 71.23417050705106, 63.745428686885354, 78.75491369730545]\n",
    "\n",
    "average = statistics.mean(datapoints)\n",
    "print(average)"
   ]
  },
  {
   "cell_type": "markdown",
   "metadata": {},
   "source": [
    "If we anticipate that we will be using the statistics module a lot, we might want to give it a nickname for ease of typing:"
   ]
  },
  {
   "cell_type": "code",
   "execution_count": 7,
   "metadata": {
    "collapsed": false
   },
   "outputs": [
    {
     "name": "stdout",
     "output_type": "stream",
     "text": [
      "93.64361461563428\n"
     ]
    }
   ],
   "source": [
    "import statistics as stats\n",
    "med = stats.median(datapoints)\n",
    "print(med)"
   ]
  },
  {
   "cell_type": "markdown",
   "metadata": {},
   "source": [
    "If it is just the case that we want only a small number of the functions provided by a module, we can import just that function. In this case, we no longer have to specify the module that function has been imported from:"
   ]
  },
  {
   "cell_type": "code",
   "execution_count": 8,
   "metadata": {
    "collapsed": false
   },
   "outputs": [
    {
     "name": "stdout",
     "output_type": "stream",
     "text": [
      "376.7948073834579\n"
     ]
    }
   ],
   "source": [
    "from statistics import variance\n",
    "var = variance(datapoints) # didn't need to write stats.variance\n",
    "print(var)"
   ]
  },
  {
   "cell_type": "markdown",
   "metadata": {},
   "source": [
    "The Python standard library is large and impressive. Most common tasks computing tasks are aided by standard library modules, such as downloading information from the internet, performing common mathematical operations, reading certain kinds of file from your computer, and so on. You can read about every module available in the standard library in this intimidating list here https://docs.python.org/3/library/."
   ]
  },
  {
   "cell_type": "code",
   "execution_count": null,
   "metadata": {
    "collapsed": true
   },
   "outputs": [],
   "source": []
  }
 ],
 "metadata": {
  "kernelspec": {
   "display_name": "Python 3",
   "language": "python",
   "name": "python3"
  },
  "language_info": {
   "codemirror_mode": {
    "name": "ipython",
    "version": 3
   },
   "file_extension": ".py",
   "mimetype": "text/x-python",
   "name": "python",
   "nbconvert_exporter": "python",
   "pygments_lexer": "ipython3",
   "version": "3.5.3"
  }
 },
 "nbformat": 4,
 "nbformat_minor": 0
}
