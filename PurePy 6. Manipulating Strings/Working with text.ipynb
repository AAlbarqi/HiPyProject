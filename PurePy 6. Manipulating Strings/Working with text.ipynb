{
 "cells": [
  {
   "cell_type": "markdown",
   "metadata": {},
   "source": [
    "# Strings\n",
    "\n",
    "String manipulation is widely regarded as one of Python's strong points. These segments of text contain many rich features, and it is straightforward in Python to pull strings apart and re-combine them in interesting ways.\n",
    "\n",
    "Working with strings is an important skill in Python. For one, reading data into a program will often take the form of a file containing text, and so we must be proficient in extracting the bits we're interested in. Moreover, we are humans. We do not want the computer to merely spit out a list of numbers after performing a calculation; we want our outputs presented in a way that we can actually read.\n",
    "\n",
    "Strings are an immutable data type. The operations we perform involve forging new strings from old, rather than modifying the original string.\n",
    "\n",
    "## Slicing and dicing\n",
    "\n",
    "To get a \"slice\" of a string is similar to getting an item from a list (in fact we can also get slices of lists by the same syntax). However, we specify a start and end index, rather than just an index:"
   ]
  },
  {
   "cell_type": "code",
   "execution_count": 5,
   "metadata": {
    "collapsed": false
   },
   "outputs": [
    {
     "name": "stdout",
     "output_type": "stream",
     "text": [
      "a piece \n"
     ]
    }
   ],
   "source": [
    "a_string = \"This is a piece of string\"\n",
    "print(a_string[8:16])"
   ]
  },
  {
   "cell_type": "markdown",
   "metadata": {},
   "source": [
    "We can also leave one end \"open\""
   ]
  },
  {
   "cell_type": "code",
   "execution_count": 8,
   "metadata": {
    "collapsed": false
   },
   "outputs": [
    {
     "name": "stdout",
     "output_type": "stream",
     "text": [
      "This\n",
      "is a piece of string\n"
     ]
    }
   ],
   "source": [
    "print(a_string[:4])\n",
    "print(a_string[5:])"
   ]
  },
  {
   "cell_type": "markdown",
   "metadata": {},
   "source": [
    "To get the <i>last</i> x letters, we can count backwards with negative numbers:"
   ]
  },
  {
   "cell_type": "code",
   "execution_count": 9,
   "metadata": {
    "collapsed": false
   },
   "outputs": [
    {
     "name": "stdout",
     "output_type": "stream",
     "text": [
      "string\n"
     ]
    }
   ],
   "source": [
    "print(a_string[-6:]) # will get the last 6 letters!"
   ]
  },
  {
   "cell_type": "markdown",
   "metadata": {},
   "source": [
    "Strings can be concatenated (joined together) using the addition operator:"
   ]
  },
  {
   "cell_type": "code",
   "execution_count": 11,
   "metadata": {
    "collapsed": false
   },
   "outputs": [
    {
     "name": "stdout",
     "output_type": "stream",
     "text": [
      "Hallo Welt\n"
     ]
    }
   ],
   "source": [
    "print(\"Hallo \" + \"Welt\")"
   ]
  },
  {
   "cell_type": "markdown",
   "metadata": {},
   "source": [
    "If we wish to use this technique to include, for instance, numbers, then we must first convert the number into a string, as + has a different meaning for strings and numbers."
   ]
  },
  {
   "cell_type": "code",
   "execution_count": 5,
   "metadata": {
    "collapsed": false
   },
   "outputs": [
    {
     "name": "stdout",
     "output_type": "stream",
     "text": [
      "The year is 2017!\n"
     ]
    }
   ],
   "source": [
    "year = 2017\n",
    "print(\"The year is \" + str(year) + \"!\")"
   ]
  },
  {
   "cell_type": "markdown",
   "metadata": {},
   "source": [
    "These tools already provide a flexible system for string manipulation. Many of the functions that work on sequence-like data will also work on strings. For instance:"
   ]
  },
  {
   "cell_type": "code",
   "execution_count": 2,
   "metadata": {
    "collapsed": false
   },
   "outputs": [
    {
     "name": "stdout",
     "output_type": "stream",
     "text": [
      "30\n"
     ]
    }
   ],
   "source": [
    "print(len(\"How long is a piece of string?\"))"
   ]
  },
  {
   "cell_type": "code",
   "execution_count": 3,
   "metadata": {
    "collapsed": false
   },
   "outputs": [
    {
     "name": "stdout",
     "output_type": "stream",
     "text": [
      "['A', ' ', 'l', 'i', 's', 't', ' ', 'o', 'f', ' ', 'l', 'e', 't', 't', 'e', 'r', 's']\n"
     ]
    }
   ],
   "source": [
    "print(list(\"A list of letters\"))"
   ]
  },
  {
   "cell_type": "markdown",
   "metadata": {},
   "source": [
    "## Special characters and escape sequences\n",
    "\n",
    "Certain special characters are represented with a backslash followed by a letter, called an escape sequence. Python considers this pairing to be a single character, even though it looks like two characters on the screen. For example, a new line is represented with <code>\\n</code>."
   ]
  },
  {
   "cell_type": "code",
   "execution_count": 4,
   "metadata": {
    "collapsed": false
   },
   "outputs": [
    {
     "name": "stdout",
     "output_type": "stream",
     "text": [
      "Split a string\n",
      "onto two lines\n"
     ]
    }
   ],
   "source": [
    "print(\"Split a string\\nonto two lines\")"
   ]
  },
  {
   "cell_type": "markdown",
   "metadata": {},
   "source": [
    "Escape sequences also allow you to use quotation marks inside a string without Python thinking you are closing the string. Finally, if you actually do want to insert a backslash, then <code>\\\\</code> is the escape sequence to insert a backslash.\n",
    "\n",
    "A full list of escape sequences can be found here http://www.techpaste.com/2014/06/escape-sequences-python/. Probably you don't know what all of these do. Neither do I. Why not try some out anyway?"
   ]
  },
  {
   "cell_type": "markdown",
   "metadata": {},
   "source": [
    "## Formatting strings\n",
    "\n",
    "Many languages, such as C and its derivatives, allow a segment of text to receive inputs using a funny looking syntax in which % signs appear everywhere. Python supports this syntax, and in Python 2 this was the preferred way to modify strings. In Python 3, however, we have the more powerful <code>.format()</code> ability.\n",
    "\n",
    "Have a good look at this section, as it provides the ideal tools for giving useful, readable outputs. However, string formatting is virtually its own mini-langauge, and is a lot to take in at once. The important thing is to know that Python <i>can</i> do all these things. You can work out the details as and when you need them.\n",
    "\n",
    "The most basic use of string formatting is to insert data from your program into a string. This can be any data that has a suitable string representation, such as numbers. There are many options for doing this. The first is simply by position:"
   ]
  },
  {
   "cell_type": "code",
   "execution_count": 7,
   "metadata": {
    "collapsed": false
   },
   "outputs": [
    {
     "name": "stdout",
     "output_type": "stream",
     "text": [
      "As I was going to St. Ives I met a man with 7 wives\n"
     ]
    }
   ],
   "source": [
    "destination = \"St. Ives\"\n",
    "wivescount = 7\n",
    "poem = \"As I was going to {} I met a man with {} wives\".format(destination, wivescount)\n",
    "print(poem)"
   ]
  },
  {
   "cell_type": "markdown",
   "metadata": {},
   "source": [
    "Notice that we have two <code>{}</code>s and provide two arguments to the format function. The order that we provide the arguments is the order that they appear in the text. We can reference the arguments more explicitly by including the position (this is useful if the same argument will appear several times:"
   ]
  },
  {
   "cell_type": "code",
   "execution_count": 12,
   "metadata": {
    "collapsed": false
   },
   "outputs": [
    {
     "name": "stdout",
     "output_type": "stream",
     "text": [
      "As I was going to St. Ives I met a man with 7 wives,\n",
      "those 7 wives had 7 sacks.\n"
     ]
    }
   ],
   "source": [
    "poem = \"\"\"As I was going to {0} I met a man with {1} wives,\n",
    "those {1} wives had {1} sacks.\"\"\".format(destination, wivescount) # triple quotes allow multi-line paragraphs\n",
    "print(poem)"
   ]
  },
  {
   "cell_type": "markdown",
   "metadata": {},
   "source": [
    "So here we can see the zero'th argument is referenced once; the one'th argument appears 3 times. If we don't want to worry about position, we can use keyword arguments:"
   ]
  },
  {
   "cell_type": "code",
   "execution_count": 14,
   "metadata": {
    "collapsed": false
   },
   "outputs": [
    {
     "name": "stdout",
     "output_type": "stream",
     "text": [
      "Those 7 sacks had 7 cats\n"
     ]
    }
   ],
   "source": [
    "poem = \"\"\"Those {count} sacks had {count} {animals}\"\"\".format(animals=\"cats\", count=wivescount)\n",
    "print(poem)"
   ]
  },
  {
   "cell_type": "markdown",
   "metadata": {},
   "source": [
    "We can supply <code>.format()</code> with any data structure, and access its items in the usual way:"
   ]
  },
  {
   "cell_type": "code",
   "execution_count": 21,
   "metadata": {
    "collapsed": false
   },
   "outputs": [
    {
     "name": "stdout",
     "output_type": "stream",
     "text": [
      "kits, cats, sacks and wives, how many going to St. Ives?\n"
     ]
    }
   ],
   "source": [
    "travellers = [\"wives\", \"sacks\", \"cats\", \"kits\"]\n",
    "# access list items\n",
    "poem = \"{0[3]}, {0[2]}, {0[1]} and {0[0]}, how many going to {1}?\".format(travellers, destination)\n",
    "print(poem)"
   ]
  },
  {
   "cell_type": "markdown",
   "metadata": {},
   "source": [
    "<code>.format()</code> also provides ways to represent floats and large integers."
   ]
  },
  {
   "cell_type": "code",
   "execution_count": 24,
   "metadata": {
    "collapsed": false
   },
   "outputs": [
    {
     "name": "stdout",
     "output_type": "stream",
     "text": [
      "There were 23,455,453,424 travellers to St. Ives\n"
     ]
    }
   ],
   "source": [
    "large_int = 23455453424\n",
    "print(\"There were {0:,} travellers to {1}\".format(large_int, destination))\n",
    "# :, adds comma as thousands separator."
   ]
  },
  {
   "cell_type": "code",
   "execution_count": 39,
   "metadata": {
    "collapsed": false
   },
   "outputs": [
    {
     "name": "stdout",
     "output_type": "stream",
     "text": [
      "That answer is 8370968.388294 times too big!\n",
      "That answer is 8370968.39 times too big!\n",
      "That answer is 8,370,968.39 times too big!\n"
     ]
    }
   ],
   "source": [
    "correct_answer = 2802\n",
    "rebuke = \"That answer is {0:f} times too big!\".format(large_int/correct_answer)\n",
    "# default (6 decimal places)\n",
    "print(rebuke)\n",
    "rebuke = \"That answer is {0:.2f} times too big!\".format(large_int/correct_answer)\n",
    "print(rebuke)\n",
    "# two decimal places\n",
    "rebuke = \"That answer is {0:,.2f} times too big!\".format(large_int/correct_answer)\n",
    "print(rebuke)\n",
    "# two decimal places and comma separators"
   ]
  },
  {
   "cell_type": "markdown",
   "metadata": {},
   "source": [
    "Yet another use for string formatting is in aligning text. Text can be left-aligned, right-aligned, or centered. Let's place 3 words on separate lines, with line-width of 30 characters, each with a different alignment:"
   ]
  },
  {
   "cell_type": "code",
   "execution_count": 36,
   "metadata": {
    "collapsed": false
   },
   "outputs": [
    {
     "name": "stdout",
     "output_type": "stream",
     "text": [
      "right                         \n",
      "                          left\n",
      "            center            \n"
     ]
    }
   ],
   "source": [
    "print( \"{:<30}\\n{:>30}\\n{:^30}\".format(\"right\", \"left\", \"center\") )"
   ]
  },
  {
   "cell_type": "markdown",
   "metadata": {},
   "source": [
    "So, this is no more mysterious than <code>\"{}\\n{}\\n{}\"</code>, but we use the <, >, ^ characters to show alignment followed by the linewidth."
   ]
  },
  {
   "cell_type": "markdown",
   "metadata": {},
   "source": [
    "## More ways to carve up strings\n",
    "\n",
    "In the Data Structures example video, we met a function called <code>partition()</code> that splits up a string if you provide it with a separator character. There are many many functions on strings that perform similar tasks.\n",
    "\n",
    "For example, we have splitting and joining, which allow easy conversion from lists to strings and strings to list. A string can be split into indvidual words using the <code>split()</code> function:"
   ]
  },
  {
   "cell_type": "code",
   "execution_count": 40,
   "metadata": {
    "collapsed": false
   },
   "outputs": [
    {
     "name": "stdout",
     "output_type": "stream",
     "text": [
      "['These', 'words', 'will', 'form', 'a', 'list']\n"
     ]
    }
   ],
   "source": [
    "listofwords = \"These words will form a list\".split()\n",
    "print(listofwords)"
   ]
  },
  {
   "cell_type": "markdown",
   "metadata": {},
   "source": [
    "Split also will take an argument to specify a different delimiter.\n",
    "\n",
    "The counter to this is <code>join()</code>, which acts on the character you wish to use a separator, and takes a list as its arguments. This is a faster algorithm for gluing together a bunch of words than repeated use of the + operator, and it can easily be combined with a list comprehension, too."
   ]
  },
  {
   "cell_type": "code",
   "execution_count": 42,
   "metadata": {
    "collapsed": false
   },
   "outputs": [
    {
     "name": "stdout",
     "output_type": "stream",
     "text": [
      "Hello\n"
     ]
    }
   ],
   "source": [
    "# just straight up join, good for making a word\n",
    "# we here use join on an empty string to glue the letters directly\n",
    "word = \"\".join(['H', 'e', 'l', 'l', 'o'])\n",
    "print(word)"
   ]
  },
  {
   "cell_type": "code",
   "execution_count": 43,
   "metadata": {
    "collapsed": false
   },
   "outputs": [
    {
     "name": "stdout",
     "output_type": "stream",
     "text": [
      "These words will form a list\n"
     ]
    }
   ],
   "source": [
    "# here we use join with spaces to separate, making a sentence\n",
    "reunited_words = \" \".join(listofwords)\n",
    "print(reunited_words)"
   ]
  },
  {
   "cell_type": "code",
   "execution_count": 46,
   "metadata": {
    "collapsed": false
   },
   "outputs": [
    {
     "name": "stdout",
     "output_type": "stream",
     "text": [
      "Bread,\n",
      "Bananas,\n",
      "Beans,\n",
      "Beer\n"
     ]
    }
   ],
   "source": [
    "# more complicated example. the joining string here is a comma followed by new line\n",
    "# we also use a list comprehension to capitalize each item in the list\n",
    "\n",
    "shopping_list = ['bread', 'bananas', 'beans', 'beer']\n",
    "readable_shopping = \",\\n\".join([item.capitalize() for item in shopping_list])\n",
    "print(readable_shopping)"
   ]
  },
  {
   "cell_type": "markdown",
   "metadata": {},
   "source": [
    "## Cutting off the beginning or end of a line; the string module\n",
    "\n",
    "It is somewhat common when working with strings to wish to remove a chunk of text from the beginning or end of a line. As an example, suppose I have copied and pasted a numbered list from the internet, and I wish to remove the numbers. The trouble is, the numbers have different numbers of digits, so I can't just do a straight up slice on each line."
   ]
  },
  {
   "cell_type": "code",
   "execution_count": 52,
   "metadata": {
    "collapsed": true
   },
   "outputs": [],
   "source": [
    "best_python_books = \"\"\"1. Dive Into Python 3\n",
    "2. Automate The Boring Stuff With Python\n",
    "3. Python For Everyone\n",
    "4. Python Cookbook, 3rd Ed\n",
    "5. Python For Data Analysis\n",
    "6. Fluent Python\n",
    "7. Violent Python\n",
    "8. Think Python\n",
    "9. Learn Python The Hard Way\n",
    "10. Problem Solving with Algorithms and Data Structures Using Python\n",
    "11. Python Crash Course\n",
    "\"\"\""
   ]
  },
  {
   "cell_type": "markdown",
   "metadata": {},
   "source": [
    "The tool that comes to our rescue is <code>.strip()</code>, which takes as its argument a collection of characters as a string. Python will remove those characters from the beginning of a string, until it reaches a character not contained in the argument. If we give it no argument, it just removes whitespace (spaces and tabs). To break the list into separate lines, we'll use <code>.splitlines()</code>, which is like split, but splits at linebreaks."
   ]
  },
  {
   "cell_type": "code",
   "execution_count": 53,
   "metadata": {
    "collapsed": false
   },
   "outputs": [
    {
     "name": "stdout",
     "output_type": "stream",
     "text": [
      "['1. Dive Into Python 3', '2. Automate The Boring Stuff With Python', '3. Python For Everyone', '4. Python Cookbook, 3rd Ed', '5. Python For Data Analysis', '6. Fluent Python', '7. Violent Python', '8. Think Python', '9. Learn Python The Hard Way', '10. Problem Solving with Algorithms and Data Structures Using Python', '11. Python Crash Course']\n"
     ]
    }
   ],
   "source": [
    "lines = best_python_books.splitlines()\n",
    "print(lines)"
   ]
  },
  {
   "cell_type": "markdown",
   "metadata": {},
   "source": [
    "Now we need to remove the leading characters. Python provides a useful module called <code>string</code> in its standard library, that contains lots of useful strings, as well as additional functions for working with strings. We want to remove the numbers at the start, so we can say:"
   ]
  },
  {
   "cell_type": "code",
   "execution_count": 55,
   "metadata": {
    "collapsed": false
   },
   "outputs": [
    {
     "name": "stdout",
     "output_type": "stream",
     "text": [
      "0123456789\n"
     ]
    }
   ],
   "source": [
    "import string # gives us a string containing all the numbers\n",
    "print(string.digits)"
   ]
  },
  {
   "cell_type": "markdown",
   "metadata": {},
   "source": [
    "While this actually requires more keystrokes than simply writing the numbers <code>\"0123456789\"</code>, the string module contains many other collections of characters like this such as punctuation"
   ]
  },
  {
   "cell_type": "code",
   "execution_count": 56,
   "metadata": {
    "collapsed": false
   },
   "outputs": [
    {
     "name": "stdout",
     "output_type": "stream",
     "text": [
      "!\"#$%&'()*+,-./:;<=>?@[\\]^_`{|}~\n"
     ]
    }
   ],
   "source": [
    "print(string.punctuation)"
   ]
  },
  {
   "cell_type": "code",
   "execution_count": 58,
   "metadata": {
    "collapsed": false
   },
   "outputs": [
    {
     "name": "stdout",
     "output_type": "stream",
     "text": [
      "abcdefghijklmnopqrstuvwxyzABCDEFGHIJKLMNOPQRSTUVWXYZ\n"
     ]
    }
   ],
   "source": [
    "print(string.ascii_letters)"
   ]
  },
  {
   "cell_type": "markdown",
   "metadata": {},
   "source": [
    "These strings are useful for checking facts about other strings. For example, this snippet will check if there is any punctuation in a string:"
   ]
  },
  {
   "cell_type": "code",
   "execution_count": 59,
   "metadata": {
    "collapsed": false
   },
   "outputs": [
    {
     "name": "stdout",
     "output_type": "stream",
     "text": [
      "False\n",
      "True\n"
     ]
    }
   ],
   "source": [
    "def has_punc(text):\n",
    "    import string\n",
    "    for c in string.punctuation:\n",
    "        if c in text:\n",
    "            return True\n",
    "    return False\n",
    "\n",
    "print( has_punc(\"Has no punctuation\") )\n",
    "print( has_punc(\"Has punctuation.\"))\n"
   ]
  },
  {
   "cell_type": "markdown",
   "metadata": {},
   "source": [
    "Anyway, back to our problem. We want to remove the numbers, full stops and whitespace from the strings in the list. Here we go:"
   ]
  },
  {
   "cell_type": "code",
   "execution_count": 64,
   "metadata": {
    "collapsed": false
   },
   "outputs": [
    {
     "name": "stdout",
     "output_type": "stream",
     "text": [
      "Dive Into Python\n",
      "Automate The Boring Stuff With Python\n",
      "Python For Everyone\n",
      "Python Cookbook, 3rd Ed\n",
      "Python For Data Analysis\n",
      "Fluent Python\n",
      "Violent Python\n",
      "Think Python\n",
      "Learn Python The Hard Way\n",
      "Problem Solving with Algorithms and Data Structures Using Python\n",
      "Python Crash Course\n"
     ]
    }
   ],
   "source": [
    "chars_to_remove = \". \" + string.digits # make a string containing all bad chars\n",
    "\n",
    "nice_list = [book.strip(chars_to_remove) for book in lines]\n",
    "\n",
    "readable_list = \"\\n\".join(nice_list)\n",
    "\n",
    "print(readable_list)"
   ]
  },
  {
   "cell_type": "markdown",
   "metadata": {},
   "source": [
    "Clearly, to use <code>strip()</code>, we have to be pretty confident about the format of our data. If I had a book called \"20 Cool Python Programs\" in the list, then the \"20\" part would have been stripped out as well.\n",
    "\n",
    "## Some quick transformations of strings\n",
    "\n",
    "The developers of Python kindly include many single word ways to make quick adjustments to strings. We just demonstrate a bunch of them here; their functioning should be self explanatory:\n",
    "\n"
   ]
  },
  {
   "cell_type": "code",
   "execution_count": 68,
   "metadata": {
    "collapsed": false
   },
   "outputs": [
    {
     "name": "stdout",
     "output_type": "stream",
     "text": [
      "Some advanced string theory\n",
      "some advanced string theory\n",
      "SOME ADVANCED STRING THEORY\n",
      "sOME ADVANCED STRING THEORY\n",
      "Some Advanced String Theory\n",
      "Some basic string theory\n"
     ]
    }
   ],
   "source": [
    "my_string = \"Some advanced string theory\"\n",
    "\n",
    "print(my_string.capitalize())\n",
    "print(my_string.lower())\n",
    "print(my_string.upper())\n",
    "print(my_string.swapcase())\n",
    "print(my_string.title())\n",
    "print(my_string.replace(\"advanced\", \"basic\"))"
   ]
  },
  {
   "cell_type": "markdown",
   "metadata": {},
   "source": [
    "You can read more about how to use strings here\n",
    "https://docs.python.org/3/library/stdtypes.html#text-sequence-type-str\n",
    "and about the string module here\n",
    "https://docs.python.org/3/library/string.html"
   ]
  },
  {
   "cell_type": "code",
   "execution_count": null,
   "metadata": {
    "collapsed": true
   },
   "outputs": [],
   "source": []
  }
 ],
 "metadata": {
  "kernelspec": {
   "display_name": "Python 3",
   "language": "python",
   "name": "python3"
  },
  "language_info": {
   "codemirror_mode": {
    "name": "ipython",
    "version": 3
   },
   "file_extension": ".py",
   "mimetype": "text/x-python",
   "name": "python",
   "nbconvert_exporter": "python",
   "pygments_lexer": "ipython3",
   "version": "3.5.3"
  }
 },
 "nbformat": 4,
 "nbformat_minor": 0
}
